{
 "cells": [
  {
   "cell_type": "code",
   "execution_count": null,
   "id": "0a45c528",
   "metadata": {},
   "outputs": [
    {
     "name": "stdout",
     "output_type": "stream",
     "text": [
      "  idregistrantdata,groupreg,regtype,iddataregkhusustype,namalengkap,idschooltypedata,idschooljurusandata,highschoolcountry,email,idmajordata,idconcentrationdata,iddataclasstype,noreg,parentyearlyincome,nationality,idcountrydata,iddataprovinces,iddataregencies,kelurahan,kecamatan,alamatrumah,intl_streetname,intl_state,intl_city,intl_country,isaddresscheck,isaddresscheckedby,postcode,puatscore,puetscore,finalscore,rank,iddatapassingstatus,isrankconfirm,isrankedby,agent\n",
      "0  371646,1,9,0,Student_436879,0,0,1,1757042608@Q...                                                                                                                                                                                                                                                                                                                                                                                                                                   \n",
      "1  371645,1,9,0,Student_436878,0,0,1,ABC31555686@...                                                                                                                                                                                                                                                                                                                                                                                                                                   \n",
      "2  370296,1,3,0,Student_435559,1,1,0,DHERA.INDRIA...                                                                                                                                                                                                                                                                                                                                                                                                                                   \n",
      "3  371796,1,9,0,Student_437025,0,0,1,YAH201518@16...                                                                                                                                                                                                                                                                                                                                                                                                                                   \n",
      "4  370033,1,9,0,Student_435305,0,0,1,1352023926@1...                                                                                                                                                                                                                                                                                                                                                                                                                                   \n",
      "<class 'pandas.core.frame.DataFrame'>\n",
      "RangeIndex: 32826 entries, 0 to 32825\n",
      "Data columns (total 1 columns):\n",
      " #   Column                                                                                                                                                                                                                                                                                                                                                                                                                                                                                 Non-Null Count  Dtype \n",
      "---  ------                                                                                                                                                                                                                                                                                                                                                                                                                                                                                 --------------  ----- \n",
      " 0   idregistrantdata,groupreg,regtype,iddataregkhusustype,namalengkap,idschooltypedata,idschooljurusandata,highschoolcountry,email,idmajordata,idconcentrationdata,iddataclasstype,noreg,parentyearlyincome,nationality,idcountrydata,iddataprovinces,iddataregencies,kelurahan,kecamatan,alamatrumah,intl_streetname,intl_state,intl_city,intl_country,isaddresscheck,isaddresscheckedby,postcode,puatscore,puetscore,finalscore,rank,iddatapassingstatus,isrankconfirm,isrankedby,agent  32826 non-null  object\n",
      "dtypes: object(1)\n",
      "memory usage: 256.6+ KB\n",
      "None\n",
      "idregistrantdata,groupreg,regtype,iddataregkhusustype,namalengkap,idschooltypedata,idschooljurusandata,highschoolcountry,email,idmajordata,idconcentrationdata,iddataclasstype,noreg,parentyearlyincome,nationality,idcountrydata,iddataprovinces,iddataregencies,kelurahan,kecamatan,alamatrumah,intl_streetname,intl_state,intl_city,intl_country,isaddresscheck,isaddresscheckedby,postcode,puatscore,puetscore,finalscore,rank,iddatapassingstatus,isrankconfirm,isrankedby,agent    0\n",
      "dtype: int64\n"
     ]
    }
   ],
   "source": [
    "import pandas as pd\n",
    "df = pd.read_csv('/Users/nauvalharyadi/Downloads/data cleaning/realcleaned2022-2023.csv',\n",
    "                 delimiter=';',\n",
    "                 engine='python',\n",
    "                 on_bad_lines='skip')  # Gunakan ini karena error_bad_lines sudah deprecated\n",
    "\n",
    "print(df.head())\n",
    "print(df.info())\n",
    "print(df.isnull().sum())"
   ]
  },
  {
   "cell_type": "code",
   "execution_count": null,
   "id": "2e687b13",
   "metadata": {},
   "outputs": [],
   "source": []
  }
 ],
 "metadata": {
  "kernelspec": {
   "display_name": "Python 3",
   "language": "python",
   "name": "python3"
  },
  "language_info": {
   "codemirror_mode": {
    "name": "ipython",
    "version": 3
   },
   "file_extension": ".py",
   "mimetype": "text/x-python",
   "name": "python",
   "nbconvert_exporter": "python",
   "pygments_lexer": "ipython3",
   "version": "3.9.6"
  }
 },
 "nbformat": 4,
 "nbformat_minor": 5
}
