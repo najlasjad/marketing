{
 "cells": [
  {
   "cell_type": "code",
   "execution_count": 49,
   "id": "1975ed55",
   "metadata": {},
   "outputs": [],
   "source": [
    "import pandas as pd"
   ]
  },
  {
   "cell_type": "code",
   "execution_count": 50,
   "id": "7c97d54d",
   "metadata": {},
   "outputs": [
    {
     "name": "stderr",
     "output_type": "stream",
     "text": [
      "C:\\Users\\najla\\AppData\\Local\\Temp\\ipykernel_18636\\3118379066.py:1: DtypeWarning: Columns (14,20,23,24,33,34,41,49,50,51,55,56,57,62,64,66,74,75,81,82,83,91,92,112,113,140,146,154,155,158,159,160,163,164,165,166,167,168,174,175,176,177,178,179,181,182,183,184,185,186,187,188,189,192,193,194,195,196,197,198,199) have mixed types. Specify dtype option on import or set low_memory=False.\n",
      "  df_2022 = pd.read_csv('../../data/REG2022_2023-dataset.csv', delimiter=';')\n",
      "C:\\Users\\najla\\AppData\\Local\\Temp\\ipykernel_18636\\3118379066.py:2: DtypeWarning: Columns (14,20,23,24,33,34,38,39,40,49,50,51,55,56,57,70,74,75,81,82,83,91,110,111,112,113,116,117,119,120,140,146,150,154,155,158,159,160,163,164,165,166,167,168,174,175,176,177,178,179,181,182,183,184,185,186,187,188,189,192,193,194,195,196,197,198,199) have mixed types. Specify dtype option on import or set low_memory=False.\n",
      "  df_2023 = pd.read_csv('../../data/REG2023_2024-dataset.csv', delimiter=';')\n"
     ]
    }
   ],
   "source": [
    "df_2022 = pd.read_csv('../../data/REG2022_2023-dataset.csv', delimiter=';')\n",
    "df_2023 = pd.read_csv('../../data/REG2023_2024-dataset.csv', delimiter=';')"
   ]
  },
  {
   "cell_type": "code",
   "execution_count": 51,
   "id": "68a593c4",
   "metadata": {},
   "outputs": [],
   "source": [
    "df = pd.concat([df_2022, df_2023], ignore_index=True)\n",
    "clean_df = df"
   ]
  },
  {
   "cell_type": "code",
   "execution_count": 52,
   "id": "346856d7",
   "metadata": {},
   "outputs": [],
   "source": [
    "empty_cols = clean_df.columns[df.isna().all()]\n",
    "for col in empty_cols:\n",
    "    clean_df.drop(col, axis=1, inplace=True)"
   ]
  },
  {
   "cell_type": "code",
   "execution_count": 53,
   "id": "3a0720e2",
   "metadata": {},
   "outputs": [],
   "source": [
    "duplikat_email = clean_df[clean_df.duplicated('email', keep=False)]"
   ]
  },
  {
   "cell_type": "code",
   "execution_count": 54,
   "id": "874b69bc",
   "metadata": {},
   "outputs": [],
   "source": [
    "clean_df = clean_df.drop_duplicates(subset='email', keep='first')"
   ]
  },
  {
   "cell_type": "code",
   "execution_count": 55,
   "id": "50668aeb",
   "metadata": {},
   "outputs": [
    {
     "name": "stdout",
     "output_type": "stream",
     "text": [
      "(87603, 244)\n",
      "(63689, 244)\n"
     ]
    }
   ],
   "source": [
    "print(df.shape)\n",
    "print(clean_df.shape)"
   ]
  }
 ],
 "metadata": {
  "kernelspec": {
   "display_name": "Python 3",
   "language": "python",
   "name": "python3"
  },
  "language_info": {
   "codemirror_mode": {
    "name": "ipython",
    "version": 3
   },
   "file_extension": ".py",
   "mimetype": "text/x-python",
   "name": "python",
   "nbconvert_exporter": "python",
   "pygments_lexer": "ipython3",
   "version": "3.12.10"
  }
 },
 "nbformat": 4,
 "nbformat_minor": 5
}
