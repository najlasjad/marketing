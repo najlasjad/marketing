{
 "cells": [
  {
   "cell_type": "code",
   "execution_count": 26,
   "id": "1975ed55",
   "metadata": {},
   "outputs": [],
   "source": [
    "import pandas as pd"
   ]
  },
  {
   "cell_type": "code",
   "execution_count": 27,
   "id": "7c97d54d",
   "metadata": {},
   "outputs": [
    {
     "name": "stderr",
     "output_type": "stream",
     "text": [
      "/var/folders/h7/3phxrpk14mncw_6hy8r3wl9h0000gn/T/ipykernel_20953/3118379066.py:1: DtypeWarning: Columns (14,20,23,24,33,34,41,49,50,51,55,56,57,62,64,66,74,75,81,82,83,91,92,112,113,140,146,154,155,158,159,160,163,164,165,166,167,168,174,175,176,177,178,179,181,182,183,184,185,186,187,188,189,192,193,194,195,196,197,198,199) have mixed types. Specify dtype option on import or set low_memory=False.\n",
      "  df_2022 = pd.read_csv('../../data/REG2022_2023-dataset.csv', delimiter=';')\n",
      "/var/folders/h7/3phxrpk14mncw_6hy8r3wl9h0000gn/T/ipykernel_20953/3118379066.py:2: DtypeWarning: Columns (14,20,23,24,33,34,38,39,40,49,50,51,55,56,57,70,74,75,81,82,83,91,110,111,112,113,116,117,119,120,140,146,150,154,155,158,159,160,163,164,165,166,167,168,174,175,176,177,178,179,181,182,183,184,185,186,187,188,189,192,193,194,195,196,197,198,199) have mixed types. Specify dtype option on import or set low_memory=False.\n",
      "  df_2023 = pd.read_csv('../../data/REG2023_2024-dataset.csv', delimiter=';')\n"
     ]
    }
   ],
   "source": [
    "df_2022 = pd.read_csv('../../data/REG2022_2023-dataset.csv', delimiter=';')\n",
    "df_2023 = pd.read_csv('../../data/REG2023_2024-dataset.csv', delimiter=';')"
   ]
  },
  {
   "cell_type": "code",
   "execution_count": 28,
   "id": "68a593c4",
   "metadata": {},
   "outputs": [],
   "source": [
    "df = pd.concat([df_2022, df_2023], ignore_index=True)\n",
    "clean_df = df"
   ]
  },
  {
   "cell_type": "code",
   "execution_count": 29,
   "id": "346856d7",
   "metadata": {},
   "outputs": [],
   "source": [
    "empty_cols = clean_df.columns[df.isna().all()]\n",
    "for col in empty_cols:\n",
    "    clean_df.drop(col, axis=1, inplace=True)"
   ]
  },
  {
   "cell_type": "code",
   "execution_count": 30,
   "id": "ff94c9ee",
   "metadata": {},
   "outputs": [],
   "source": [
    "for col in clean_df.columns:\n",
    "    if clean_df[col].dtype == 'float64' or clean_df[col].dtype == 'int64':\n",
    "        clean_df[col] = clean_df[col].fillna(clean_df[col].mean())\n",
    "    elif clean_df[col].dtype == 'object':\n",
    "        clean_df[col] = clean_df[col].fillna(clean_df[col].mode()[0])\n"
   ]
  },
  {
   "cell_type": "code",
   "execution_count": 32,
   "id": "215620d3",
   "metadata": {},
   "outputs": [
    {
     "name": "stdout",
     "output_type": "stream",
     "text": [
      "Jumlah baris dan kolom: (87603, 244)\n",
      "Jumlah total missing values: 0\n",
      "Jumlah baris duplikat: 0\n",
      "Tipe data tiap kolom:\n",
      " idregistrantdata          int64\n",
      "groupreg                  int64\n",
      "regtype                   int64\n",
      "iddataregkhusustype       int64\n",
      "isregtypechanged          int64\n",
      "                         ...   \n",
      "cicilan_terms7amount    float64\n",
      "cicilan_terms7due        object\n",
      "cicilan_terms8amount    float64\n",
      "cicilan_terms8due        object\n",
      "idregbranddata            int64\n",
      "Length: 244, dtype: object\n",
      "   idregistrantdata  groupreg  regtype  iddataregkhusustype  isregtypechanged  \\\n",
      "0            225986         1        1                    0                 0   \n",
      "1            278895         1        4                    0                 0   \n",
      "2            293910         1        3                    0                 0   \n",
      "3            293941         1        1                    0                 0   \n",
      "4            293942         1        1                    0                 0   \n",
      "\n",
      "   oldregtype  regtypechangeby  is_onlinetest  is_onlinetest_taken  \\\n",
      "0           0                0              0                    0   \n",
      "1           0                0              0                    0   \n",
      "2           0                0              0                    0   \n",
      "3           0                0              0                    0   \n",
      "4           0                0              0                    0   \n",
      "\n",
      "   qty_onlinetest_taken  ...  cicilan_terms4due cicilan_terms5amount  \\\n",
      "0                     0  ...          25-Oct-22         3.044945e+06   \n",
      "1                     0  ...          25-Oct-22         3.044945e+06   \n",
      "2                     0  ...                  a         3.000000e+06   \n",
      "3                     0  ...          25-Oct-22         3.044945e+06   \n",
      "4                     0  ...          25-Oct-22         3.044945e+06   \n",
      "\n",
      "  cicilan_terms5due cicilan_terms6amount  cicilan_terms6due  \\\n",
      "0         25-Nov-22         3.044945e+06          25-Dec-22   \n",
      "1         25-Nov-22         3.044945e+06          25-Dec-22   \n",
      "2                 a         3.000000e+06                  a   \n",
      "3         25-Nov-22         3.044945e+06          25-Dec-22   \n",
      "4         25-Nov-22         3.044945e+06          25-Dec-22   \n",
      "\n",
      "   cicilan_terms7amount  cicilan_terms7due  cicilan_terms8amount  \\\n",
      "0          2.999378e+06          25-Jan-23          2.349614e+06   \n",
      "1          2.999378e+06          25-Jan-23          2.349614e+06   \n",
      "2          3.000000e+06                  a          2.600000e+06   \n",
      "3          2.999378e+06          25-Jan-23          2.349614e+06   \n",
      "4          2.999378e+06          25-Jan-23          2.349614e+06   \n",
      "\n",
      "  cicilan_terms8due idregbranddata  \n",
      "0         25-Feb-23              0  \n",
      "1         25-Feb-23              0  \n",
      "2                 a              0  \n",
      "3         25-Feb-23              0  \n",
      "4         25-Feb-23              0  \n",
      "\n",
      "[5 rows x 244 columns]\n"
     ]
    }
   ],
   "source": [
    "import pandas as pd\n",
    "\n",
    "# 1. Cek jumlah baris dan kolom\n",
    "print(\"Jumlah baris dan kolom:\", clean_df.shape)\n",
    "\n",
    "# 2. Cek apakah masih ada nilai kosong (NaN)\n",
    "print(\"Jumlah total missing values:\", clean_df.isnull().sum().sum())\n",
    "\n",
    "# 3. Cek apakah masih ada baris duplikat\n",
    "print(\"Jumlah baris duplikat:\", clean_df.duplicated().sum())\n",
    "\n",
    "# 4. Lihat tipe data yang tercampur (opsional warning mixed types)\n",
    "print(\"Tipe data tiap kolom:\\n\", clean_df.dtypes)\n",
    "\n",
    "# 5. Lihat 5 data teratas\n",
    "print(clean_df.head())\n"
   ]
  },
  {
   "cell_type": "code",
   "execution_count": 33,
   "id": "6b7c8ca9",
   "metadata": {},
   "outputs": [],
   "source": [
    "clean_df = clean_df.sort_values(by='isenrolled', ascending=False)\n",
    "clean_df = clean_df.drop_duplicates(subset='email', keep='first')\n"
   ]
  },
  {
   "cell_type": "code",
   "execution_count": 35,
   "id": "43e884f7",
   "metadata": {},
   "outputs": [
    {
     "name": "stdout",
     "output_type": "stream",
     "text": [
      "(87603, 244)\n",
      "(63689, 244)\n"
     ]
    }
   ],
   "source": [
    "print(df.shape)\n",
    "print(clean_df.shape)"
   ]
  },
  {
   "cell_type": "code",
   "execution_count": 36,
   "id": "1182e039",
   "metadata": {},
   "outputs": [],
   "source": [
    "clean_df.to_csv('cleaned_data.csv', index=False)"
   ]
  },
  {
   "cell_type": "code",
   "execution_count": null,
   "id": "408d66f5",
   "metadata": {},
   "outputs": [],
   "source": []
  }
 ],
 "metadata": {
  "kernelspec": {
   "display_name": "Python 3",
   "language": "python",
   "name": "python3"
  },
  "language_info": {
   "codemirror_mode": {
    "name": "ipython",
    "version": 3
   },
   "file_extension": ".py",
   "mimetype": "text/x-python",
   "name": "python",
   "nbconvert_exporter": "python",
   "pygments_lexer": "ipython3",
   "version": "3.9.6"
  }
 },
 "nbformat": 4,
 "nbformat_minor": 5
}
