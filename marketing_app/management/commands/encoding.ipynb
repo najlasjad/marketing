{
 "cells": [
  {
   "cell_type": "code",
   "execution_count": 37,
   "id": "53633912",
   "metadata": {},
   "outputs": [],
   "source": [
    "import pandas as pd\n",
    "from sklearn.preprocessing import LabelEncoder"
   ]
  },
  {
   "cell_type": "code",
   "execution_count": 38,
   "id": "4fca4118",
   "metadata": {},
   "outputs": [],
   "source": [
    "df = pd.read_csv('../../../data/2022_clean_data.csv', sep=';')"
   ]
  },
  {
   "cell_type": "code",
   "execution_count": 39,
   "id": "4bd88031",
   "metadata": {},
   "outputs": [
    {
     "name": "stdout",
     "output_type": "stream",
     "text": [
      "<class 'pandas.core.frame.DataFrame'>\n",
      "RangeIndex: 32666 entries, 0 to 32665\n",
      "Data columns (total 13 columns):\n",
      " #   Column               Non-Null Count  Dtype \n",
      "---  ------               --------------  ----- \n",
      " 0   idregistrantdata     32666 non-null  int64 \n",
      " 1   groupreg             32666 non-null  int64 \n",
      " 2   regtype              32666 non-null  int64 \n",
      " 3   iddataregkhusustype  32666 non-null  int64 \n",
      " 4   idschooltypedata     32666 non-null  int64 \n",
      " 5   idschooljurusandata  32666 non-null  int64 \n",
      " 6   email                32666 non-null  object\n",
      " 7   idmajordata          32666 non-null  int64 \n",
      " 8   idcountrydata        32666 non-null  int64 \n",
      " 9   iddataprovinces      32666 non-null  int64 \n",
      " 10  iddataregencies      32666 non-null  int64 \n",
      " 11  ispaid               32666 non-null  int64 \n",
      " 12  paymentamount        32666 non-null  int64 \n",
      "dtypes: int64(12), object(1)\n",
      "memory usage: 3.2+ MB\n"
     ]
    }
   ],
   "source": [
    "df.info()"
   ]
  },
  {
   "cell_type": "code",
   "execution_count": 40,
   "id": "88f9f629",
   "metadata": {},
   "outputs": [],
   "source": [
    "ump_mapping = {\n",
    "    0 : 2725504,\n",
    "    11 : 3166460,\n",
    "    12 : 2522609,\n",
    "    13 : 2512539,\n",
    "    14 : 2938564,\n",
    "    15 : 2698940,\n",
    "    16 : 3144446,\n",
    "    17 : 2238094,\n",
    "    18 : 2440486,\n",
    "    19 : 3264884,\n",
    "    21 : 3050172,\n",
    "    31 : 4641854,\n",
    "    32 : 1841487,\n",
    "    33 : 1812935,\n",
    "    34 : 1840915,\n",
    "    35 : 1891567,\n",
    "    36 : 2501203,\n",
    "    51 : 2516971,\n",
    "    52 : 2207212,\n",
    "    53 : 1975000,\n",
    "    61 : 2434328,\n",
    "    62 : 2922516,\n",
    "    63 : 2906473,\n",
    "    64 : 3014497,\n",
    "    65 : 3016738,\n",
    "    71 : 3310723,\n",
    "    72 : 2390739,\n",
    "    73 : 3165876,\n",
    "    74 : 2576016,\n",
    "    75 : 2800580,\n",
    "    76 : 2678863,\n",
    "    81 : 2619312,\n",
    "    82 : 2862231,\n",
    "    91 : 3200000,\n",
    "    94 : 3561932,\n",
    "}\n",
    "\n",
    "df['ump'] = df['iddataprovinces'].map(ump_mapping)"
   ]
  },
  {
   "cell_type": "code",
   "execution_count": 41,
   "id": "60590411",
   "metadata": {},
   "outputs": [],
   "source": [
    "categorical_cols = [col for col in df.columns if df[col].nunique() < 15 and df[col].dtype in ['int64', 'object']]\n",
    "ordinal_cols = [col for col in categorical_cols if df[col].dtype != 'object']\n",
    "nominal_cols = [col for col in categorical_cols if df[col].dtype == 'object']\n",
    "\n",
    "label_encoders = {}\n",
    "for col in ordinal_cols:\n",
    "    le = LabelEncoder()\n",
    "    df[col] = le.fit_transform(df[col])\n",
    "    label_encoders[col] = le\n",
    "\n",
    "df = pd.get_dummies(df, columns=nominal_cols)"
   ]
  },
  {
   "cell_type": "code",
   "execution_count": 42,
   "id": "5e71f08e",
   "metadata": {},
   "outputs": [],
   "source": [
    "df.to_csv('../../../data/2022_encoded_data.csv', index=False, sep=';')\n"
   ]
  }
 ],
 "metadata": {
  "kernelspec": {
   "display_name": "Python 3",
   "language": "python",
   "name": "python3"
  },
  "language_info": {
   "codemirror_mode": {
    "name": "ipython",
    "version": 3
   },
   "file_extension": ".py",
   "mimetype": "text/x-python",
   "name": "python",
   "nbconvert_exporter": "python",
   "pygments_lexer": "ipython3",
   "version": "3.12.10"
  }
 },
 "nbformat": 4,
 "nbformat_minor": 5
}
