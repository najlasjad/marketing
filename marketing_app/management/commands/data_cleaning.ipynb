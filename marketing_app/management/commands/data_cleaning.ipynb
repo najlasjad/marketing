{
 "cells": [
  {
   "cell_type": "code",
   "execution_count": 7,
   "id": "3920d0d0",
   "metadata": {},
   "outputs": [],
   "source": [
    "import pandas as pd"
   ]
  },
  {
   "cell_type": "code",
   "execution_count": 8,
   "id": "3b7f1c45",
   "metadata": {},
   "outputs": [
    {
     "name": "stderr",
     "output_type": "stream",
     "text": [
      "C:\\Users\\najla\\AppData\\Local\\Temp\\ipykernel_32896\\2073025520.py:1: DtypeWarning: Columns (14,20,23,24,33,34,41,49,50,51,55,56,57,62,64,66,74,75,81,82,83,91,92,112,113,140,146,154,155,158,159,160,163,164,165,166,167,168,174,175,176,177,178,179,181,182,183,184,185,186,187,188,189,192,193,194,195,196,197,198,199) have mixed types. Specify dtype option on import or set low_memory=False.\n",
      "  df_2022 = pd.read_csv('../../../data/REG2022_2023-dataset.csv', delimiter=';')\n",
      "C:\\Users\\najla\\AppData\\Local\\Temp\\ipykernel_32896\\2073025520.py:2: DtypeWarning: Columns (14,20,23,24,33,34,38,39,40,49,50,51,55,56,57,70,74,75,81,82,83,91,110,111,112,113,116,117,119,120,140,146,150,154,155,158,159,160,163,164,165,166,167,168,174,175,176,177,178,179,181,182,183,184,185,186,187,188,189,192,193,194,195,196,197,198,199) have mixed types. Specify dtype option on import or set low_memory=False.\n",
      "  df_2023 = pd.read_csv('../../../data/REG2023_2024-dataset.csv', delimiter=';')\n"
     ]
    }
   ],
   "source": [
    "df_2022 = pd.read_csv('../../../data/REG2022_2023-dataset.csv', delimiter=';')\n",
    "df_2023 = pd.read_csv('../../../data/REG2023_2024-dataset.csv', delimiter=';')"
   ]
  },
  {
   "cell_type": "code",
   "execution_count": 9,
   "id": "aef1d1ff",
   "metadata": {},
   "outputs": [],
   "source": [
    "selected_columns = [\n",
    "    'idregistrantdata',\n",
    "    'groupreg',\n",
    "    'regtype',\n",
    "    'iddataregkhusustype',\n",
    "    'idschooltypedata',\n",
    "    'idschooljurusandata',\n",
    "    'email',\n",
    "    'idmajordata',\n",
    "    'idcountrydata',\n",
    "    'iddataprovinces',\n",
    "    'iddataregencies',\n",
    "    'ispaid',\n",
    "    'paymentamount'\n",
    "]"
   ]
  },
  {
   "cell_type": "code",
   "execution_count": 10,
   "id": "6b21f92a",
   "metadata": {},
   "outputs": [
    {
     "name": "stdout",
     "output_type": "stream",
     "text": [
      "(40185, 13)\n",
      "(47418, 13)\n"
     ]
    }
   ],
   "source": [
    "df_2022_cleaned = df_2022[selected_columns]\n",
    "print(df_2022_cleaned.shape)\n",
    "\n",
    "df_2023_cleaned = df_2023[selected_columns]\n",
    "print(df_2023_cleaned.shape)"
   ]
  },
  {
   "cell_type": "code",
   "execution_count": 12,
   "id": "45598139",
   "metadata": {},
   "outputs": [
    {
     "name": "stdout",
     "output_type": "stream",
     "text": [
      "(32666, 13)\n",
      "(31598, 13)\n"
     ]
    }
   ],
   "source": [
    "df_2022_sorted = df_2022_cleaned.sort_values(by='ispaid', ascending=False)\n",
    "df_2022_deduplicated = df_2022_sorted.drop_duplicates(subset=['email'], keep='first')\n",
    "print(df_2022_deduplicated.shape)\n",
    "\n",
    "df_2023_sorted = df_2023_cleaned.sort_values(by='ispaid', ascending=False)\n",
    "df_2023_deduplicated = df_2023_sorted.drop_duplicates(subset=['email'], keep='first')\n",
    "print(df_2023_deduplicated.shape)"
   ]
  },
  {
   "cell_type": "code",
   "execution_count": 13,
   "id": "ca5244ee",
   "metadata": {},
   "outputs": [],
   "source": [
    "df_2022_deduplicated.to_csv('../../../data/2022_clean_data.csv', index=False, sep=';')\n",
    "df_2023_deduplicated.to_csv('../../../data/2023_clean_data.csv', index=False, sep=';')"
   ]
  }
 ],
 "metadata": {
  "kernelspec": {
   "display_name": "Python 3",
   "language": "python",
   "name": "python3"
  },
  "language_info": {
   "codemirror_mode": {
    "name": "ipython",
    "version": 3
   },
   "file_extension": ".py",
   "mimetype": "text/x-python",
   "name": "python",
   "nbconvert_exporter": "python",
   "pygments_lexer": "ipython3",
   "version": "3.12.10"
  }
 },
 "nbformat": 4,
 "nbformat_minor": 5
}
